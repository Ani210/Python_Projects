{
 "cells": [
  {
   "cell_type": "code",
   "execution_count": 1,
   "metadata": {},
   "outputs": [],
   "source": [
    "from IPython.display import clear_output\n",
    "def visual_game(board):\n",
    "    clear_output()\n",
    "    \n",
    "    row = ['',' | ','',' | ','']\n",
    "    print(*row)\n",
    "    print(board[6]+' |  '+board[7]+' | '+board[8])\n",
    "    print(*row)\n",
    "    print(div*10)\n",
    "    print(*row)\n",
    "    print(board[3]+' |  '+board[4]+' | '+board[5])\n",
    "    print(*row)\n",
    "    print(div*10)\n",
    "    print(*row)\n",
    "    print(board[0]+' |  '+board[1]+' | '+board[2])\n",
    "    print(*row)"
   ]
  },
  {
   "cell_type": "code",
   "execution_count": 2,
   "metadata": {},
   "outputs": [],
   "source": [
    "def player_selection():\n",
    "    marker = ''\n",
    "    while marker != 'X' and marker != 'O':\n",
    "        marker = input('PlayerA: Choose your marker(X or O)? ').upper()\n",
    "        if marker == 'X':\n",
    "            return('X','O')\n",
    "        else:\n",
    "            return('O','X')"
   ]
  },
  {
   "cell_type": "code",
   "execution_count": 3,
   "metadata": {},
   "outputs": [],
   "source": [
    "def marking_choice(board,position,marker):\n",
    "    board[position] = marker"
   ]
  },
  {
   "cell_type": "code",
   "execution_count": 4,
   "metadata": {},
   "outputs": [],
   "source": [
    "def game_result(board,marker):\n",
    "    return ((board[0] == marker and board[1] == marker and board[2] == marker) or  #across the bottom \n",
    "       (board[3] == marker and board[4] == marker and board[5] == marker) or   #across the middle\n",
    "       (board[6] == marker and board[7] == marker and board[8] == marker) or   #across the top \n",
    "       (board[0] == marker and board[3] == marker and board[6] == marker) or   #across the left\n",
    "       (board[1] == marker and board[4] == marker and board[7] == marker) or   #across the middle\n",
    "       (board[2] == marker and board[5] == marker and board[8] == marker) or   #across the right\n",
    "       (board[2] == marker and board[4] == marker and board[6] == marker) or   #diagonally\n",
    "       (board[0] == marker and board[4] == marker and board[8] == marker))     #diagonally"
   ]
  },
  {
   "cell_type": "code",
   "execution_count": 5,
   "metadata": {},
   "outputs": [],
   "source": [
    "import random\n",
    "def player_check():\n",
    "    if random.randint(0,1) == 0:\n",
    "        return 'Player B'\n",
    "    else:\n",
    "        return 'Player A'"
   ]
  },
  {
   "cell_type": "code",
   "execution_count": 6,
   "metadata": {},
   "outputs": [],
   "source": [
    "def space_check(board,position):\n",
    "    return board[position] == ' '"
   ]
  },
  {
   "cell_type": "code",
   "execution_count": 7,
   "metadata": {},
   "outputs": [],
   "source": [
    "def full_check(board):\n",
    "    for i in range(len(board)):\n",
    "        if space_check(board,i):\n",
    "            return False\n",
    "    return True"
   ]
  },
  {
   "cell_type": "code",
   "execution_count": 8,
   "metadata": {},
   "outputs": [],
   "source": [
    "def position_index(board):\n",
    "    choice = 0\n",
    "    while choice not in range(0,9) or not space_check(board,choice):\n",
    "        choice = int(input('Select your position(0-8):'))\n",
    "        if choice not in range(0,9):\n",
    "            print('Not a valid choice!')\n",
    "    return choice"
   ]
  },
  {
   "cell_type": "code",
   "execution_count": 9,
   "metadata": {},
   "outputs": [],
   "source": [
    "def replay():\n",
    "    choice = ''\n",
    "    while choice not in ['Yes','No']:\n",
    "        choice = input(\"Keep playing?(Yes or No) \")\n",
    "        if choice not in ['Yes','No']:\n",
    "            print('Not a valid choice!')\n",
    "    if choice == 'Yes':\n",
    "        return True\n",
    "    else:\n",
    "        return False"
   ]
  },
  {
   "cell_type": "code",
   "execution_count": 10,
   "metadata": {},
   "outputs": [
    {
     "name": "stdout",
     "output_type": "stream",
     "text": [
      "  |    |  \n",
      "O |  O | O\n",
      "  |    |  \n",
      "----------\n",
      "  |    |  \n",
      "X |  O | X\n",
      "  |    |  \n",
      "----------\n",
      "  |    |  \n",
      "X |    | X\n",
      "  |    |  \n",
      "Player B wins!!!\n",
      "Keep playing?(Yes or No) No\n"
     ]
    }
   ],
   "source": [
    "print('Welcome to Tic tac toe game!!!! ')\n",
    "div = \"-\"\n",
    "while True:\n",
    "    game_board = [' ']*9\n",
    "    player1,player2 = player_selection()\n",
    "    turn = player_check()\n",
    "    print(turn+\" will go first.\")\n",
    "    play_game = input('Start the game?(Yes or No) ')\n",
    "    if play_game == 'Yes':\n",
    "        game_on = True\n",
    "    else:\n",
    "        game_on = False\n",
    "        \n",
    "    while game_on:\n",
    "        if turn == 'Player A':\n",
    "            visual_game(game_board)\n",
    "            position = position_index(game_board)\n",
    "            marking_choice(game_board,position,player1)\n",
    "            if game_result(game_board,player1):\n",
    "                visual_game(game_board)\n",
    "                print('Player A wins!!!!')\n",
    "                game_on = False\n",
    "            else:\n",
    "                if full_check(game_board):\n",
    "                    print('This is draw!!!')\n",
    "                    break\n",
    "                else:\n",
    "                    turn = 'Player B'\n",
    "        else:\n",
    "            visual_game(game_board)\n",
    "            position = position_index(game_board)\n",
    "            marking_choice(game_board,position,player2)\n",
    "            if game_result(game_board,player2):\n",
    "                visual_game(game_board)\n",
    "                print('Player B wins!!!')\n",
    "                game_on = False\n",
    "            else:\n",
    "                if full_check(game_board):\n",
    "                    print('This is draw!!!')\n",
    "                    break\n",
    "                else:\n",
    "                    turn = 'Player A'\n",
    "    if not replay():\n",
    "        break"
   ]
  },
  {
   "cell_type": "code",
   "execution_count": null,
   "metadata": {},
   "outputs": [],
   "source": []
  },
  {
   "cell_type": "code",
   "execution_count": null,
   "metadata": {},
   "outputs": [],
   "source": []
  },
  {
   "cell_type": "code",
   "execution_count": null,
   "metadata": {},
   "outputs": [],
   "source": []
  },
  {
   "cell_type": "code",
   "execution_count": null,
   "metadata": {},
   "outputs": [],
   "source": []
  }
 ],
 "metadata": {
  "kernelspec": {
   "display_name": "Python 3",
   "language": "python",
   "name": "python3"
  },
  "language_info": {
   "codemirror_mode": {
    "name": "ipython",
    "version": 3
   },
   "file_extension": ".py",
   "mimetype": "text/x-python",
   "name": "python",
   "nbconvert_exporter": "python",
   "pygments_lexer": "ipython3",
   "version": "3.7.6"
  }
 },
 "nbformat": 4,
 "nbformat_minor": 4
}
